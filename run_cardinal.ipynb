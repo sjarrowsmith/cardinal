{
 "cells": [
  {
   "cell_type": "markdown",
   "metadata": {},
   "source": [
    "# Cardinal\n",
    "\n",
    "A Quick Start guide for Cardinal. For more details on algorithms and options, see ```cardinal_usersguide.ipynb```\n",
    "\n",
    "This notebook uses three data examples (stored as .pickle and .cardinal files). The first .pickle file is provided with the Cardinal distribution. Contact me if you wish to run the remaining two examples.\n",
    "\n",
    "Stephen Arrowsmith (sarrowsmith@smu.edu)"
   ]
  },
  {
   "cell_type": "code",
   "execution_count": 1,
   "metadata": {},
   "outputs": [],
   "source": [
    "%matplotlib widget\n",
    "from obspy import read, Stream\n",
    "import sys, dask, time\n",
    "import pandas as pd\n",
    "import matplotlib.pyplot as plt\n",
    "sys.path.append('/Users/sarrowsmith/Box/Work/github/cardinal/')\n",
    "import cardinal"
   ]
  },
  {
   "cell_type": "markdown",
   "metadata": {},
   "source": [
    "## UTTR Example\n",
    "\n",
    "The UTTR example ships with InfraPy and is provided here for comparison. It contains data from a short-aperture array (BRP) and includes the measurement of a large explosion"
   ]
  },
  {
   "cell_type": "code",
   "execution_count": 2,
   "metadata": {},
   "outputs": [],
   "source": [
    "st = read('UTTR.pickle')"
   ]
  },
  {
   "cell_type": "code",
   "execution_count": 3,
   "metadata": {},
   "outputs": [
    {
     "data": {
      "application/vnd.jupyter.widget-view+json": {
       "model_id": "4f9c9847cc284fdeb287af5f98ce0bd8",
       "version_major": 2,
       "version_minor": 0
      },
      "text/plain": [
       "Canvas(toolbar=Toolbar(toolitems=[('Home', 'Reset original view', 'home', 'home'), ('Back', 'Back to previous …"
      ]
     },
     "metadata": {},
     "output_type": "display_data"
    }
   ],
   "source": [
    "fig = st.plot(handle=True, method='full', type='relative', size=(600, 600))"
   ]
  },
  {
   "cell_type": "markdown",
   "metadata": {},
   "source": [
    "### Extracting coordinates and f_bands from Cardinal\n",
    "\n",
    "All array processing in Cardinal requires the specification of a reference array element. All times of estimated waveform parameters are subsequently relative to that array element.\n",
    "\n",
    "In the example below, the reference array element is BRP4. The matrix X is required for Cardinal processing and contains the array coordinates."
   ]
  },
  {
   "cell_type": "code",
   "execution_count": 4,
   "metadata": {},
   "outputs": [
    {
     "data": {
      "application/vnd.jupyter.widget-view+json": {
       "model_id": "c05ed267eae442f5acfbfbf823ea0bcd",
       "version_major": 2,
       "version_minor": 0
      },
      "text/plain": [
       "Canvas(toolbar=Toolbar(toolitems=[('Home', 'Reset original view', 'home', 'home'), ('Back', 'Back to previous …"
      ]
     },
     "metadata": {},
     "output_type": "display_data"
    }
   ],
   "source": [
    "plt.figure()\n",
    "X, stnm = cardinal.get_array_coords(st, 'BRP4')\n",
    "cardinal.plot_array_coords(X, stnm, units='m')"
   ]
  },
  {
   "cell_type": "markdown",
   "metadata": {},
   "source": [
    "### Obtaining PMCC filter bands\n",
    "\n",
    "The set of PMCC filter bands and associated time windows and overlaps for array processing are described in Table 1 of Matoza et al. (2013) https://agupubs.onlinelibrary.wiley.com/doi/full/10.1029/2012GL054329\n",
    "\n",
    "The following two lines extract these parameters, and extend them up to the Nyquist frequency (note that the default PMCC filter bands only extend up to 5 Hz)."
   ]
  },
  {
   "cell_type": "code",
   "execution_count": 5,
   "metadata": {},
   "outputs": [],
   "source": [
    "f_bands = cardinal.pmcc_fbands()\n",
    "f_bands = cardinal.extend_pmcc_fbands(f_bands, st[0].stats.sampling_rate/2)"
   ]
  },
  {
   "cell_type": "code",
   "execution_count": 6,
   "metadata": {},
   "outputs": [
    {
     "data": {
      "text/html": [
       "<div>\n",
       "<style scoped>\n",
       "    .dataframe tbody tr th:only-of-type {\n",
       "        vertical-align: middle;\n",
       "    }\n",
       "\n",
       "    .dataframe tbody tr th {\n",
       "        vertical-align: top;\n",
       "    }\n",
       "\n",
       "    .dataframe thead th {\n",
       "        text-align: right;\n",
       "    }\n",
       "</style>\n",
       "<table border=\"1\" class=\"dataframe\">\n",
       "  <thead>\n",
       "    <tr style=\"text-align: right;\">\n",
       "      <th></th>\n",
       "      <th>band</th>\n",
       "      <th>fmin</th>\n",
       "      <th>fcenter</th>\n",
       "      <th>fmax</th>\n",
       "      <th>win</th>\n",
       "      <th>step</th>\n",
       "    </tr>\n",
       "  </thead>\n",
       "  <tbody>\n",
       "    <tr>\n",
       "      <th>0</th>\n",
       "      <td>1.0</td>\n",
       "      <td>0.010000</td>\n",
       "      <td>0.012600</td>\n",
       "      <td>0.015100</td>\n",
       "      <td>200.000000</td>\n",
       "      <td>20.000000</td>\n",
       "    </tr>\n",
       "    <tr>\n",
       "      <th>1</th>\n",
       "      <td>2.0</td>\n",
       "      <td>0.015100</td>\n",
       "      <td>0.019000</td>\n",
       "      <td>0.022900</td>\n",
       "      <td>142.160600</td>\n",
       "      <td>14.216100</td>\n",
       "    </tr>\n",
       "    <tr>\n",
       "      <th>2</th>\n",
       "      <td>3.0</td>\n",
       "      <td>0.022900</td>\n",
       "      <td>0.028800</td>\n",
       "      <td>0.034700</td>\n",
       "      <td>103.940400</td>\n",
       "      <td>10.394000</td>\n",
       "    </tr>\n",
       "    <tr>\n",
       "      <th>3</th>\n",
       "      <td>4.0</td>\n",
       "      <td>0.034700</td>\n",
       "      <td>0.043600</td>\n",
       "      <td>0.052400</td>\n",
       "      <td>78.684600</td>\n",
       "      <td>7.868500</td>\n",
       "    </tr>\n",
       "    <tr>\n",
       "      <th>4</th>\n",
       "      <td>5.0</td>\n",
       "      <td>0.052400</td>\n",
       "      <td>0.065900</td>\n",
       "      <td>0.079400</td>\n",
       "      <td>61.995600</td>\n",
       "      <td>6.199600</td>\n",
       "    </tr>\n",
       "    <tr>\n",
       "      <th>5</th>\n",
       "      <td>6.0</td>\n",
       "      <td>0.079400</td>\n",
       "      <td>0.099700</td>\n",
       "      <td>0.120100</td>\n",
       "      <td>50.967600</td>\n",
       "      <td>5.096800</td>\n",
       "    </tr>\n",
       "    <tr>\n",
       "      <th>6</th>\n",
       "      <td>7.0</td>\n",
       "      <td>0.120100</td>\n",
       "      <td>0.150900</td>\n",
       "      <td>0.181800</td>\n",
       "      <td>43.680300</td>\n",
       "      <td>4.368000</td>\n",
       "    </tr>\n",
       "    <tr>\n",
       "      <th>7</th>\n",
       "      <td>8.0</td>\n",
       "      <td>0.181800</td>\n",
       "      <td>0.228400</td>\n",
       "      <td>0.275100</td>\n",
       "      <td>38.864800</td>\n",
       "      <td>3.886500</td>\n",
       "    </tr>\n",
       "    <tr>\n",
       "      <th>8</th>\n",
       "      <td>9.0</td>\n",
       "      <td>0.275100</td>\n",
       "      <td>0.345700</td>\n",
       "      <td>0.416300</td>\n",
       "      <td>35.682800</td>\n",
       "      <td>3.568300</td>\n",
       "    </tr>\n",
       "    <tr>\n",
       "      <th>9</th>\n",
       "      <td>10.0</td>\n",
       "      <td>0.416300</td>\n",
       "      <td>0.523100</td>\n",
       "      <td>0.630000</td>\n",
       "      <td>33.580100</td>\n",
       "      <td>3.358000</td>\n",
       "    </tr>\n",
       "    <tr>\n",
       "      <th>10</th>\n",
       "      <td>11.0</td>\n",
       "      <td>0.630000</td>\n",
       "      <td>0.791600</td>\n",
       "      <td>0.953300</td>\n",
       "      <td>32.190700</td>\n",
       "      <td>3.219100</td>\n",
       "    </tr>\n",
       "    <tr>\n",
       "      <th>11</th>\n",
       "      <td>12.0</td>\n",
       "      <td>0.953300</td>\n",
       "      <td>1.198000</td>\n",
       "      <td>1.442700</td>\n",
       "      <td>31.272500</td>\n",
       "      <td>3.127300</td>\n",
       "    </tr>\n",
       "    <tr>\n",
       "      <th>12</th>\n",
       "      <td>13.0</td>\n",
       "      <td>1.442700</td>\n",
       "      <td>1.813000</td>\n",
       "      <td>2.183300</td>\n",
       "      <td>30.665800</td>\n",
       "      <td>3.066600</td>\n",
       "    </tr>\n",
       "    <tr>\n",
       "      <th>13</th>\n",
       "      <td>14.0</td>\n",
       "      <td>2.183300</td>\n",
       "      <td>2.743600</td>\n",
       "      <td>3.304000</td>\n",
       "      <td>30.264900</td>\n",
       "      <td>3.026500</td>\n",
       "    </tr>\n",
       "    <tr>\n",
       "      <th>14</th>\n",
       "      <td>15.0</td>\n",
       "      <td>3.304000</td>\n",
       "      <td>4.152000</td>\n",
       "      <td>5.000000</td>\n",
       "      <td>30.000000</td>\n",
       "      <td>3.000000</td>\n",
       "    </tr>\n",
       "    <tr>\n",
       "      <th>15</th>\n",
       "      <td>16.0</td>\n",
       "      <td>5.000000</td>\n",
       "      <td>6.283292</td>\n",
       "      <td>7.566585</td>\n",
       "      <td>29.800012</td>\n",
       "      <td>2.980001</td>\n",
       "    </tr>\n",
       "    <tr>\n",
       "      <th>16</th>\n",
       "      <td>17.0</td>\n",
       "      <td>7.566585</td>\n",
       "      <td>9.508613</td>\n",
       "      <td>11.450642</td>\n",
       "      <td>29.684144</td>\n",
       "      <td>2.968414</td>\n",
       "    </tr>\n",
       "    <tr>\n",
       "      <th>17</th>\n",
       "      <td>18.0</td>\n",
       "      <td>11.450642</td>\n",
       "      <td>14.389546</td>\n",
       "      <td>17.328451</td>\n",
       "      <td>29.607579</td>\n",
       "      <td>2.960758</td>\n",
       "    </tr>\n",
       "    <tr>\n",
       "      <th>18</th>\n",
       "      <td>19.0</td>\n",
       "      <td>17.328451</td>\n",
       "      <td>21.775945</td>\n",
       "      <td>26.223440</td>\n",
       "      <td>29.556985</td>\n",
       "      <td>2.955698</td>\n",
       "    </tr>\n",
       "    <tr>\n",
       "      <th>19</th>\n",
       "      <td>20.0</td>\n",
       "      <td>26.223440</td>\n",
       "      <td>32.953909</td>\n",
       "      <td>39.684378</td>\n",
       "      <td>29.523552</td>\n",
       "      <td>2.952355</td>\n",
       "    </tr>\n",
       "  </tbody>\n",
       "</table>\n",
       "</div>"
      ],
      "text/plain": [
       "    band       fmin    fcenter       fmax         win       step\n",
       "0    1.0   0.010000   0.012600   0.015100  200.000000  20.000000\n",
       "1    2.0   0.015100   0.019000   0.022900  142.160600  14.216100\n",
       "2    3.0   0.022900   0.028800   0.034700  103.940400  10.394000\n",
       "3    4.0   0.034700   0.043600   0.052400   78.684600   7.868500\n",
       "4    5.0   0.052400   0.065900   0.079400   61.995600   6.199600\n",
       "5    6.0   0.079400   0.099700   0.120100   50.967600   5.096800\n",
       "6    7.0   0.120100   0.150900   0.181800   43.680300   4.368000\n",
       "7    8.0   0.181800   0.228400   0.275100   38.864800   3.886500\n",
       "8    9.0   0.275100   0.345700   0.416300   35.682800   3.568300\n",
       "9   10.0   0.416300   0.523100   0.630000   33.580100   3.358000\n",
       "10  11.0   0.630000   0.791600   0.953300   32.190700   3.219100\n",
       "11  12.0   0.953300   1.198000   1.442700   31.272500   3.127300\n",
       "12  13.0   1.442700   1.813000   2.183300   30.665800   3.066600\n",
       "13  14.0   2.183300   2.743600   3.304000   30.264900   3.026500\n",
       "14  15.0   3.304000   4.152000   5.000000   30.000000   3.000000\n",
       "15  16.0   5.000000   6.283292   7.566585   29.800012   2.980001\n",
       "16  17.0   7.566585   9.508613  11.450642   29.684144   2.968414\n",
       "17  18.0  11.450642  14.389546  17.328451   29.607579   2.960758\n",
       "18  19.0  17.328451  21.775945  26.223440   29.556985   2.955698\n",
       "19  20.0  26.223440  32.953909  39.684378   29.523552   2.952355"
      ]
     },
     "execution_count": 6,
     "metadata": {},
     "output_type": "execute_result"
    }
   ],
   "source": [
    "f_bands"
   ]
  },
  {
   "cell_type": "markdown",
   "metadata": {},
   "source": [
    "### Running Array Processor over multiple frequency bands\n",
    "\n",
    "The examples below demo two ways to run the array processor over multiple frequency bands, depending on how to multithread the code.\n",
    "\n",
    "In both cases, the outputs are a vector of times (```T```), and matrices that contain the backazimuth (```B```), trace (or phase) velocity (```V```), and semblance (```S```). These matrices have dimension $(N_f, N_t)$ where $N_f$ is the number of frequency bands and $N_t$ is the number of time windows in the highest frequency band. The results from frequency bands with longer time windows are resampled onto the shortest time window spacing.\n",
    "\n",
    "#### Sending different f-bands to different threads\n",
    "Cardinal can process the set of frequency bands and time windows described above in multiple frequency bands by sending different bands to different threads. The number of threads to allocate to this process is defined by n_workers in the example below."
   ]
  },
  {
   "cell_type": "code",
   "execution_count": 7,
   "metadata": {},
   "outputs": [
    {
     "name": "stdout",
     "output_type": "stream",
     "text": [
      "Elapsed time =  17.08607506752014\n"
     ]
    }
   ],
   "source": [
    "t0 = time.time()\n",
    "T, B, V, S = cardinal.sliding_time_array_fk_multifreq(st, 'BRP4', f_bands, t_start=250, t_end=1000, n_workers=12)\n",
    "print('Elapsed time = ', time.time()-t0)"
   ]
  },
  {
   "cell_type": "markdown",
   "metadata": {},
   "source": [
    "#### Sending different time windows to different threads\n",
    "An alternative way to run Cardinal is to do multithreading by time block. This is recommended for processing longer segments of data, and is generally faster. The way to do this is exactly as in the example above, but calling the function ```sliding_time_array_fk_multifreq_tblock```:\n",
    "\n",
    "```python\n",
    "t0 = time.time()\n",
    "T, B, V, S = cardinal.sliding_time_array_fk_multifreq_tblock(st, 'BRP4', f_bands, t_start=250, t_end=1000, n_workers=12)\n",
    "print('Elapsed time = ', time.time()-t0)\n",
    "```"
   ]
  },
  {
   "cell_type": "markdown",
   "metadata": {},
   "source": [
    "#### Plotting the results\n",
    "Results can be viewed using the ```plot_sliding_window_multifreq``` function, which contains several configurable options. For example:\n",
    "- ```plot_trace_vel``` is ```True``` to plot trace velocity instead of semblance\n",
    "- ```log_freq``` is ```True``` to plot the frequency axes on log scales"
   ]
  },
  {
   "cell_type": "code",
   "execution_count": 8,
   "metadata": {},
   "outputs": [
    {
     "data": {
      "application/vnd.jupyter.widget-view+json": {
       "model_id": "1e6e8ee9e6354fa0baeb9e2e643996c0",
       "version_major": 2,
       "version_minor": 0
      },
      "text/plain": [
       "Canvas(toolbar=Toolbar(toolitems=[('Home', 'Reset original view', 'home', 'home'), ('Back', 'Back to previous …"
      ]
     },
     "metadata": {},
     "output_type": "display_data"
    }
   ],
   "source": [
    "cardinal.plot_sliding_window_multifreq(st, 'BRP4', f_bands, T, B, V, S,\n",
    "                                       semblance_threshold=0.7, clim_baz=[200, 100], clim_vtr=[0,1],\n",
    "                                       plot_trace_vel=False, log_freq=True,\n",
    "                                      plot_real_amplitude=True)"
   ]
  },
  {
   "cell_type": "markdown",
   "metadata": {},
   "source": [
    "### Building detections\n",
    "\n",
    "The results from array processing can be further processed to build detections (or 'families') by grouping pixels together based on time, frequency, backazimuth, and trace velocity.\n",
    "\n",
    "There are several parameters that can be defined for ```make_families```, including the semblance threshold and other parameters related to the weighted distance used in clustering pixels. These are described more completely in ```cardinal_usersguide.ipynb```.\n",
    "\n",
    "The outputs include ```ix``` and ```pixels_in_families```, which can be provided as input to ```plot_sliding_window_multifreq``` in order to plot only pixels that are in families (see example below). Finally, the output ```families``` contains the detections (which can be summarized in a Pandas dataframe or written to a SQLite database as shown below)."
   ]
  },
  {
   "cell_type": "code",
   "execution_count": 9,
   "metadata": {},
   "outputs": [],
   "source": [
    "ref_time = st[0].stats.starttime.matplotlib_date\n",
    "ix, pixels_in_families, families = cardinal.make_families(T, B, V, S, f_bands, ref_time,\n",
    "                                                          dist_thres=2, min_pixels=10,\n",
    "                                                          sigma_b=10,\n",
    "                                                          threshold=0.7)"
   ]
  },
  {
   "cell_type": "markdown",
   "metadata": {},
   "source": [
    "The example below shows how to summarize the detections in a Pandas dataframe."
   ]
  },
  {
   "cell_type": "code",
   "execution_count": 10,
   "metadata": {},
   "outputs": [
    {
     "data": {
      "text/html": [
       "<div>\n",
       "<style scoped>\n",
       "    .dataframe tbody tr th:only-of-type {\n",
       "        vertical-align: middle;\n",
       "    }\n",
       "\n",
       "    .dataframe tbody tr th {\n",
       "        vertical-align: top;\n",
       "    }\n",
       "\n",
       "    .dataframe thead th {\n",
       "        text-align: right;\n",
       "    }\n",
       "</style>\n",
       "<table border=\"1\" class=\"dataframe\">\n",
       "  <thead>\n",
       "    <tr style=\"text-align: right;\">\n",
       "      <th></th>\n",
       "      <th>start_time</th>\n",
       "      <th>end_time</th>\n",
       "      <th>min_freq</th>\n",
       "      <th>max_freq</th>\n",
       "      <th>mean_baz</th>\n",
       "      <th>std_baz</th>\n",
       "      <th>mean_vel</th>\n",
       "      <th>std_vel</th>\n",
       "      <th>max_semb</th>\n",
       "      <th>n_pixels</th>\n",
       "    </tr>\n",
       "  </thead>\n",
       "  <tbody>\n",
       "    <tr>\n",
       "      <th>0</th>\n",
       "      <td>412.278502</td>\n",
       "      <td>444.728497</td>\n",
       "      <td>0.5231</td>\n",
       "      <td>9.508613</td>\n",
       "      <td>319.901945</td>\n",
       "      <td>1.695436</td>\n",
       "      <td>0.393654</td>\n",
       "      <td>0.024866</td>\n",
       "      <td>0.939250</td>\n",
       "      <td>80.0</td>\n",
       "    </tr>\n",
       "    <tr>\n",
       "      <th>1</th>\n",
       "      <td>601.078494</td>\n",
       "      <td>798.728498</td>\n",
       "      <td>0.5231</td>\n",
       "      <td>14.389546</td>\n",
       "      <td>248.887853</td>\n",
       "      <td>4.900566</td>\n",
       "      <td>0.341244</td>\n",
       "      <td>0.017460</td>\n",
       "      <td>0.977119</td>\n",
       "      <td>329.0</td>\n",
       "    </tr>\n",
       "    <tr>\n",
       "      <th>2</th>\n",
       "      <td>798.728498</td>\n",
       "      <td>893.128499</td>\n",
       "      <td>0.3457</td>\n",
       "      <td>9.508613</td>\n",
       "      <td>321.873288</td>\n",
       "      <td>4.306947</td>\n",
       "      <td>0.387639</td>\n",
       "      <td>0.110184</td>\n",
       "      <td>0.994536</td>\n",
       "      <td>214.0</td>\n",
       "    </tr>\n",
       "  </tbody>\n",
       "</table>\n",
       "</div>"
      ],
      "text/plain": [
       "   start_time    end_time  min_freq   max_freq    mean_baz   std_baz  \\\n",
       "0  412.278502  444.728497    0.5231   9.508613  319.901945  1.695436   \n",
       "1  601.078494  798.728498    0.5231  14.389546  248.887853  4.900566   \n",
       "2  798.728498  893.128499    0.3457   9.508613  321.873288  4.306947   \n",
       "\n",
       "   mean_vel   std_vel  max_semb  n_pixels  \n",
       "0  0.393654  0.024866  0.939250      80.0  \n",
       "1  0.341244  0.017460  0.977119     329.0  \n",
       "2  0.387639  0.110184  0.994536     214.0  "
      ]
     },
     "execution_count": 10,
     "metadata": {},
     "output_type": "execute_result"
    }
   ],
   "source": [
    "cardinal.df_families(ref_time, families)"
   ]
  },
  {
   "cell_type": "markdown",
   "metadata": {},
   "source": [
    "Compare the results in the figure below (which shows pixels exceeding the semblance threshold that are in families) with the figure above, which shows all pixels exceeding the semblance threshold."
   ]
  },
  {
   "cell_type": "code",
   "execution_count": 11,
   "metadata": {},
   "outputs": [
    {
     "data": {
      "application/vnd.jupyter.widget-view+json": {
       "model_id": "e2fd331073254a4d80b599f5d2027ab1",
       "version_major": 2,
       "version_minor": 0
      },
      "text/plain": [
       "Canvas(toolbar=Toolbar(toolitems=[('Home', 'Reset original view', 'home', 'home'), ('Back', 'Back to previous …"
      ]
     },
     "metadata": {},
     "output_type": "display_data"
    }
   ],
   "source": [
    "cardinal.plot_sliding_window_multifreq(st, 'BRP4', f_bands, T, B, V, S,\n",
    "                                       semblance_threshold=0.7, clim_baz=None, clim_vtr=[0,1],\n",
    "                                       plot_trace_vel=False, log_freq=True,\n",
    "                                       pixels_in_families=pixels_in_families, ix=ix,)"
   ]
  },
  {
   "cell_type": "markdown",
   "metadata": {},
   "source": [
    "The following code block writes the output to a SQLite3 database called ```UTTR.sql```, which can store all results."
   ]
  },
  {
   "cell_type": "code",
   "execution_count": 12,
   "metadata": {},
   "outputs": [],
   "source": [
    "cardinal.write_families_to_db('UTTR.sql', families)"
   ]
  },
  {
   "cell_type": "markdown",
   "metadata": {},
   "source": [
    "### Running array processor over a single frequency band\n",
    "\n",
    "To process only a single frequency band, as is more typical for array processing, just do the following."
   ]
  },
  {
   "cell_type": "code",
   "execution_count": 13,
   "metadata": {},
   "outputs": [],
   "source": [
    "T, B, V, S = cardinal.sliding_time_array_fk(st, 'BRP4', 250, 1000)"
   ]
  },
  {
   "cell_type": "code",
   "execution_count": 14,
   "metadata": {},
   "outputs": [
    {
     "data": {
      "application/vnd.jupyter.widget-view+json": {
       "model_id": "941dee2d33ee4d95807e63336f1cc7b4",
       "version_major": 2,
       "version_minor": 0
      },
      "text/plain": [
       "Canvas(toolbar=Toolbar(toolitems=[('Home', 'Reset original view', 'home', 'home'), ('Back', 'Back to previous …"
      ]
     },
     "metadata": {},
     "output_type": "display_data"
    }
   ],
   "source": [
    "cardinal.plot_sliding_window(st, 'BRP4', T, B, V, C=S)"
   ]
  },
  {
   "cell_type": "markdown",
   "metadata": {},
   "source": [
    "## Oklahoma example\n",
    "\n",
    "The Oklahoma array, YW, is great for illustrating some features of Cardinal because its hard and has lots of issues. In particular, it requires a slowness correction to time-align the waveforms before applying array processing. In addition, channel 601 has a reverse polarity. Finally, the array is not really configured for the frequencies of study."
   ]
  },
  {
   "cell_type": "code",
   "execution_count": 15,
   "metadata": {},
   "outputs": [],
   "source": [
    "st_all = read('YW.pickle')\n",
    "\n",
    "# Now we're going to throw out everything except channels 601, 602, and 603:\n",
    "st = Stream()\n",
    "st.append(st_all.select(station='601')[0])\n",
    "st.append(st_all.select(station='602')[0])\n",
    "st.append(st_all.select(station='603')[0])\n",
    "\n",
    "# Fixing a polarity issue at Station 601:\n",
    "st.select(station='601')[0].data = -1*st.select(station='601')[0].data"
   ]
  },
  {
   "cell_type": "code",
   "execution_count": 16,
   "metadata": {},
   "outputs": [
    {
     "data": {
      "application/vnd.jupyter.widget-view+json": {
       "model_id": "5de585e8ac484edbb9da3bce0214d8c7",
       "version_major": 2,
       "version_minor": 0
      },
      "text/plain": [
       "Canvas(toolbar=Toolbar(toolitems=[('Home', 'Reset original view', 'home', 'home'), ('Back', 'Back to previous …"
      ]
     },
     "metadata": {},
     "output_type": "display_data"
    },
    {
     "data": {
      "text/plain": [
       "(1200.0, 1300.0)"
      ]
     },
     "execution_count": 16,
     "metadata": {},
     "output_type": "execute_result"
    }
   ],
   "source": [
    "st.taper(type='cosine', max_percentage=0.05, max_length=60)\n",
    "st.filter('bandpass', freqmin=2, freqmax=15)\n",
    "fig = st.plot(handle=True, method='full', type='relative', equal_scale=False, size=(600, 600))\n",
    "plt.xlim([1200,1300])"
   ]
  },
  {
   "cell_type": "code",
   "execution_count": 17,
   "metadata": {},
   "outputs": [
    {
     "data": {
      "application/vnd.jupyter.widget-view+json": {
       "model_id": "43a539f0ab404be991819319d59ccdc7",
       "version_major": 2,
       "version_minor": 0
      },
      "text/plain": [
       "Canvas(toolbar=Toolbar(toolitems=[('Home', 'Reset original view', 'home', 'home'), ('Back', 'Back to previous …"
      ]
     },
     "metadata": {},
     "output_type": "display_data"
    }
   ],
   "source": [
    "plt.figure()\n",
    "\n",
    "X, stnm = cardinal.get_array_coords(st, '602')\n",
    "cardinal.plot_array_coords(X, stnm, units='km')"
   ]
  },
  {
   "cell_type": "markdown",
   "metadata": {},
   "source": [
    "### Applying slowness correction\n",
    "\n",
    "The next block applies a slowness correction for a backazimuth of 144.09 degrees and phase velocity of 0.35 km/s. These parameters are based on a measurement made by Chris Hayward on a single first phase, and are good enough to time-align for array processing."
   ]
  },
  {
   "cell_type": "code",
   "execution_count": 18,
   "metadata": {},
   "outputs": [],
   "source": [
    "sl_x, sl_y = cardinal.convert_to_slowness(144.09, 0.35)\n",
    "st_sc = st.copy()    # st_sc is an ObsPy Stream with slowness correction applied\n",
    "st_sc = cardinal.adjust_times_for_slowness(st_sc, X, sl_x, sl_y)"
   ]
  },
  {
   "cell_type": "code",
   "execution_count": 19,
   "metadata": {},
   "outputs": [
    {
     "data": {
      "application/vnd.jupyter.widget-view+json": {
       "model_id": "2aae940c0c1243c1a177b010a66eb686",
       "version_major": 2,
       "version_minor": 0
      },
      "text/plain": [
       "Canvas(toolbar=Toolbar(toolitems=[('Home', 'Reset original view', 'home', 'home'), ('Back', 'Back to previous …"
      ]
     },
     "metadata": {},
     "output_type": "display_data"
    },
    {
     "data": {
      "text/plain": [
       "(1200.0, 1300.0)"
      ]
     },
     "execution_count": 19,
     "metadata": {},
     "output_type": "execute_result"
    }
   ],
   "source": [
    "fig = st_sc.plot(handle=True, method='full', type='relative', equal_scale=False, size=(600, 600))\n",
    "plt.xlim([1200,1300])"
   ]
  },
  {
   "cell_type": "markdown",
   "metadata": {},
   "source": [
    "### Processing a single frequency band\n",
    "\n",
    "The first step is to process a single frequency band from 2-15 Hz using a 3 s window, more-or-less as we've been doing so far."
   ]
  },
  {
   "cell_type": "code",
   "execution_count": 20,
   "metadata": {},
   "outputs": [],
   "source": [
    "T, B, V, S = cardinal.sliding_time_array_fk(st_sc, '602', 1230, 1310, win_len=3, win_frac=0.1,\n",
    "                                            frqlow=2, frqhigh=15, sl_corr=[sl_x, sl_y])"
   ]
  },
  {
   "cell_type": "code",
   "execution_count": 21,
   "metadata": {},
   "outputs": [
    {
     "data": {
      "application/vnd.jupyter.widget-view+json": {
       "model_id": "7120236d97eb4b3fac4c792c730bca28",
       "version_major": 2,
       "version_minor": 0
      },
      "text/plain": [
       "Canvas(toolbar=Toolbar(toolitems=[('Home', 'Reset original view', 'home', 'home'), ('Back', 'Back to previous …"
      ]
     },
     "metadata": {},
     "output_type": "display_data"
    }
   ],
   "source": [
    "cardinal.plot_sliding_window(st_sc, '602', T, B, V, C=S, twin_plot=[1230,1310])"
   ]
  },
  {
   "cell_type": "markdown",
   "metadata": {},
   "source": [
    "### Processing with multiple frequency bands\n",
    "\n",
    "The next step is to process the data with multiple frequency bands. Rather than extrapolating the default PMCC parameters to high frequencies, we use here a set of Octave bands that extends to short-time windows at high frequencies."
   ]
  },
  {
   "cell_type": "code",
   "execution_count": 22,
   "metadata": {},
   "outputs": [],
   "source": [
    "f_bands = cardinal.make_custom_fbands(f_max=st_sc[0].stats.sampling_rate/2, type='octave')"
   ]
  },
  {
   "cell_type": "code",
   "execution_count": 23,
   "metadata": {},
   "outputs": [
    {
     "data": {
      "text/html": [
       "<div>\n",
       "<style scoped>\n",
       "    .dataframe tbody tr th:only-of-type {\n",
       "        vertical-align: middle;\n",
       "    }\n",
       "\n",
       "    .dataframe tbody tr th {\n",
       "        vertical-align: top;\n",
       "    }\n",
       "\n",
       "    .dataframe thead th {\n",
       "        text-align: right;\n",
       "    }\n",
       "</style>\n",
       "<table border=\"1\" class=\"dataframe\">\n",
       "  <thead>\n",
       "    <tr style=\"text-align: right;\">\n",
       "      <th></th>\n",
       "      <th>band</th>\n",
       "      <th>fmin</th>\n",
       "      <th>fcenter</th>\n",
       "      <th>fmax</th>\n",
       "      <th>win</th>\n",
       "      <th>step</th>\n",
       "    </tr>\n",
       "  </thead>\n",
       "  <tbody>\n",
       "    <tr>\n",
       "      <th>0</th>\n",
       "      <td>1.0</td>\n",
       "      <td>0.01</td>\n",
       "      <td>0.015</td>\n",
       "      <td>0.02</td>\n",
       "      <td>134.320197</td>\n",
       "      <td>13.432020</td>\n",
       "    </tr>\n",
       "    <tr>\n",
       "      <th>1</th>\n",
       "      <td>2.0</td>\n",
       "      <td>0.02</td>\n",
       "      <td>0.030</td>\n",
       "      <td>0.04</td>\n",
       "      <td>68.640395</td>\n",
       "      <td>6.864039</td>\n",
       "    </tr>\n",
       "    <tr>\n",
       "      <th>2</th>\n",
       "      <td>3.0</td>\n",
       "      <td>0.04</td>\n",
       "      <td>0.060</td>\n",
       "      <td>0.08</td>\n",
       "      <td>35.800493</td>\n",
       "      <td>3.580049</td>\n",
       "    </tr>\n",
       "    <tr>\n",
       "      <th>3</th>\n",
       "      <td>4.0</td>\n",
       "      <td>0.08</td>\n",
       "      <td>0.120</td>\n",
       "      <td>0.16</td>\n",
       "      <td>19.380543</td>\n",
       "      <td>1.938054</td>\n",
       "    </tr>\n",
       "    <tr>\n",
       "      <th>4</th>\n",
       "      <td>5.0</td>\n",
       "      <td>0.16</td>\n",
       "      <td>0.240</td>\n",
       "      <td>0.32</td>\n",
       "      <td>11.170567</td>\n",
       "      <td>1.117057</td>\n",
       "    </tr>\n",
       "    <tr>\n",
       "      <th>5</th>\n",
       "      <td>6.0</td>\n",
       "      <td>0.32</td>\n",
       "      <td>0.480</td>\n",
       "      <td>0.64</td>\n",
       "      <td>7.065580</td>\n",
       "      <td>0.706558</td>\n",
       "    </tr>\n",
       "    <tr>\n",
       "      <th>6</th>\n",
       "      <td>7.0</td>\n",
       "      <td>0.64</td>\n",
       "      <td>0.960</td>\n",
       "      <td>1.28</td>\n",
       "      <td>5.013086</td>\n",
       "      <td>0.501309</td>\n",
       "    </tr>\n",
       "    <tr>\n",
       "      <th>7</th>\n",
       "      <td>8.0</td>\n",
       "      <td>1.28</td>\n",
       "      <td>1.920</td>\n",
       "      <td>2.56</td>\n",
       "      <td>3.986839</td>\n",
       "      <td>0.398684</td>\n",
       "    </tr>\n",
       "    <tr>\n",
       "      <th>8</th>\n",
       "      <td>9.0</td>\n",
       "      <td>2.56</td>\n",
       "      <td>3.840</td>\n",
       "      <td>5.12</td>\n",
       "      <td>3.473716</td>\n",
       "      <td>0.347372</td>\n",
       "    </tr>\n",
       "    <tr>\n",
       "      <th>9</th>\n",
       "      <td>10.0</td>\n",
       "      <td>5.12</td>\n",
       "      <td>7.680</td>\n",
       "      <td>10.24</td>\n",
       "      <td>3.217154</td>\n",
       "      <td>0.321715</td>\n",
       "    </tr>\n",
       "    <tr>\n",
       "      <th>10</th>\n",
       "      <td>11.0</td>\n",
       "      <td>10.24</td>\n",
       "      <td>15.360</td>\n",
       "      <td>20.48</td>\n",
       "      <td>3.088873</td>\n",
       "      <td>0.308887</td>\n",
       "    </tr>\n",
       "    <tr>\n",
       "      <th>11</th>\n",
       "      <td>12.0</td>\n",
       "      <td>20.48</td>\n",
       "      <td>30.720</td>\n",
       "      <td>40.96</td>\n",
       "      <td>3.024733</td>\n",
       "      <td>0.302473</td>\n",
       "    </tr>\n",
       "  </tbody>\n",
       "</table>\n",
       "</div>"
      ],
      "text/plain": [
       "    band   fmin  fcenter   fmax         win       step\n",
       "0    1.0   0.01    0.015   0.02  134.320197  13.432020\n",
       "1    2.0   0.02    0.030   0.04   68.640395   6.864039\n",
       "2    3.0   0.04    0.060   0.08   35.800493   3.580049\n",
       "3    4.0   0.08    0.120   0.16   19.380543   1.938054\n",
       "4    5.0   0.16    0.240   0.32   11.170567   1.117057\n",
       "5    6.0   0.32    0.480   0.64    7.065580   0.706558\n",
       "6    7.0   0.64    0.960   1.28    5.013086   0.501309\n",
       "7    8.0   1.28    1.920   2.56    3.986839   0.398684\n",
       "8    9.0   2.56    3.840   5.12    3.473716   0.347372\n",
       "9   10.0   5.12    7.680  10.24    3.217154   0.321715\n",
       "10  11.0  10.24   15.360  20.48    3.088873   0.308887\n",
       "11  12.0  20.48   30.720  40.96    3.024733   0.302473"
      ]
     },
     "execution_count": 23,
     "metadata": {},
     "output_type": "execute_result"
    }
   ],
   "source": [
    "f_bands"
   ]
  },
  {
   "cell_type": "code",
   "execution_count": 24,
   "metadata": {},
   "outputs": [
    {
     "name": "stdout",
     "output_type": "stream",
     "text": [
      "Elapsed time =  10.009031057357788\n"
     ]
    }
   ],
   "source": [
    "t0 = time.time()\n",
    "T, B, V, S = cardinal.sliding_time_array_fk_multifreq(st_sc, '602', f_bands, t_start=1230, t_end=1310,\n",
    "                                                      n_workers=12, sl_corr=[sl_x, sl_y])\n",
    "print('Elapsed time = ', time.time()-t0)"
   ]
  },
  {
   "cell_type": "code",
   "execution_count": 25,
   "metadata": {},
   "outputs": [
    {
     "data": {
      "application/vnd.jupyter.widget-view+json": {
       "model_id": "a0543a38031c4cd4a2aa960e23e4716f",
       "version_major": 2,
       "version_minor": 0
      },
      "text/plain": [
       "Canvas(toolbar=Toolbar(toolitems=[('Home', 'Reset original view', 'home', 'home'), ('Back', 'Back to previous …"
      ]
     },
     "metadata": {},
     "output_type": "display_data"
    }
   ],
   "source": [
    "cardinal.plot_sliding_window_multifreq(st_sc, '602', f_bands, T, B, V, S,\n",
    "                                       semblance_threshold=0.7, clim_baz=[120,160], clim_vtr=[0.1,0.5],\n",
    "                                       plot_trace_vel=True, log_freq=False, twin_plot=[1230,1310],\n",
    "                                       f_lim=[0,15])"
   ]
  },
  {
   "cell_type": "markdown",
   "metadata": {},
   "source": [
    "## DUN Example\n",
    "\n",
    "The final example illustrates how to process a long time period of data with Cardinal. The general workflow is to read and process data in long time blocks (e.g., 1-day). The user can optionally save a ```.cardinal``` file for each time block (which contains all the processing results prior to computing families). This is useful for going back and analyzing the results quickly.\n",
    "\n",
    "The subsequent step is to compute families and save these to an output SQLite3 file. The results from multiple days can be appended onto the same SQLite3 file. This SQLite3 file can be queried, and summary plots can be produced from it.\n",
    "\n",
    "This is illustrated below using data from the Dallas Urban Noise (DUN) infrasound array, which was deployed during the summer of 2020. The data were processed in chunks of 1-day, and saved as ```.cardinal``` files, as in the example below:\n",
    "\n",
    "```python\n",
    "T, B, V, S = cardinal.sliding_time_array_fk_multifreq_tblock(st, 'DUN2', f_bands, n_workers=12)\n",
    "cardinal.save_sliding_window_multifreq('DUN_072520.cardinal', st, f_bands, T, B, V, S)\n",
    "```\n",
    "\n",
    "The steps below begin by reading in a ```.cardinal``` file."
   ]
  },
  {
   "cell_type": "code",
   "execution_count": 2,
   "metadata": {},
   "outputs": [],
   "source": [
    "st, f_bands, T, B, V, S = cardinal.load_sliding_window_multifreq('DUN_070520.cardinal')"
   ]
  },
  {
   "cell_type": "markdown",
   "metadata": {},
   "source": [
    "Next, the ```make_families``` utility is run to build families. A reference time is provided to enable the results to be stored in either seconds (as for ```T``` above), or in Matplotlib datenum format."
   ]
  },
  {
   "cell_type": "code",
   "execution_count": 28,
   "metadata": {},
   "outputs": [],
   "source": [
    "ref_time = st[0].stats.starttime.matplotlib_date\n",
    "ix, pixels_in_families, families = cardinal.make_families(T, B, V, S, f_bands, ref_time,\n",
    "                                                          threshold=0.6, dist_thres=1,\n",
    "                                                          min_pixels=20, sigma_t=1.5)"
   ]
  },
  {
   "cell_type": "markdown",
   "metadata": {},
   "source": [
    "The families can be viewed directly as follows:"
   ]
  },
  {
   "cell_type": "code",
   "execution_count": 29,
   "metadata": {},
   "outputs": [
    {
     "data": {
      "text/html": [
       "<div>\n",
       "<style scoped>\n",
       "    .dataframe tbody tr th:only-of-type {\n",
       "        vertical-align: middle;\n",
       "    }\n",
       "\n",
       "    .dataframe tbody tr th {\n",
       "        vertical-align: top;\n",
       "    }\n",
       "\n",
       "    .dataframe thead th {\n",
       "        text-align: right;\n",
       "    }\n",
       "</style>\n",
       "<table border=\"1\" class=\"dataframe\">\n",
       "  <thead>\n",
       "    <tr style=\"text-align: right;\">\n",
       "      <th></th>\n",
       "      <th>start_time</th>\n",
       "      <th>end_time</th>\n",
       "      <th>min_freq</th>\n",
       "      <th>max_freq</th>\n",
       "      <th>mean_baz</th>\n",
       "      <th>std_baz</th>\n",
       "      <th>mean_vel</th>\n",
       "      <th>std_vel</th>\n",
       "      <th>max_semb</th>\n",
       "      <th>n_pixels</th>\n",
       "    </tr>\n",
       "  </thead>\n",
       "  <tbody>\n",
       "    <tr>\n",
       "      <th>133</th>\n",
       "      <td>10277.000010</td>\n",
       "      <td>10303.550007</td>\n",
       "      <td>0.5231</td>\n",
       "      <td>4.1520</td>\n",
       "      <td>253.538669</td>\n",
       "      <td>6.069255</td>\n",
       "      <td>0.388374</td>\n",
       "      <td>0.025612</td>\n",
       "      <td>0.835924</td>\n",
       "      <td>55.0</td>\n",
       "    </tr>\n",
       "    <tr>\n",
       "      <th>0</th>\n",
       "      <td>16270.450010</td>\n",
       "      <td>16329.450012</td>\n",
       "      <td>0.0126</td>\n",
       "      <td>0.0126</td>\n",
       "      <td>135.000000</td>\n",
       "      <td>0.000000</td>\n",
       "      <td>0.196419</td>\n",
       "      <td>0.000000</td>\n",
       "      <td>0.657468</td>\n",
       "      <td>21.0</td>\n",
       "    </tr>\n",
       "    <tr>\n",
       "      <th>38</th>\n",
       "      <td>23314.100007</td>\n",
       "      <td>23349.500006</td>\n",
       "      <td>0.2284</td>\n",
       "      <td>0.5231</td>\n",
       "      <td>53.927105</td>\n",
       "      <td>3.593952</td>\n",
       "      <td>0.497476</td>\n",
       "      <td>0.049454</td>\n",
       "      <td>0.755950</td>\n",
       "      <td>22.0</td>\n",
       "    </tr>\n",
       "    <tr>\n",
       "      <th>73</th>\n",
       "      <td>24573.750014</td>\n",
       "      <td>24615.050011</td>\n",
       "      <td>0.3457</td>\n",
       "      <td>0.5231</td>\n",
       "      <td>46.916917</td>\n",
       "      <td>4.044134</td>\n",
       "      <td>0.510296</td>\n",
       "      <td>0.030889</td>\n",
       "      <td>0.722622</td>\n",
       "      <td>22.0</td>\n",
       "    </tr>\n",
       "    <tr>\n",
       "      <th>39</th>\n",
       "      <td>24904.150012</td>\n",
       "      <td>25042.800014</td>\n",
       "      <td>0.2284</td>\n",
       "      <td>0.3457</td>\n",
       "      <td>32.846951</td>\n",
       "      <td>9.773271</td>\n",
       "      <td>0.593285</td>\n",
       "      <td>0.118295</td>\n",
       "      <td>0.761793</td>\n",
       "      <td>51.0</td>\n",
       "    </tr>\n",
       "    <tr>\n",
       "      <th>...</th>\n",
       "      <td>...</td>\n",
       "      <td>...</td>\n",
       "      <td>...</td>\n",
       "      <td>...</td>\n",
       "      <td>...</td>\n",
       "      <td>...</td>\n",
       "      <td>...</td>\n",
       "      <td>...</td>\n",
       "      <td>...</td>\n",
       "      <td>...</td>\n",
       "    </tr>\n",
       "    <tr>\n",
       "      <th>7</th>\n",
       "      <td>83740.200013</td>\n",
       "      <td>83796.250011</td>\n",
       "      <td>0.0436</td>\n",
       "      <td>0.0997</td>\n",
       "      <td>308.223652</td>\n",
       "      <td>6.315321</td>\n",
       "      <td>0.228743</td>\n",
       "      <td>0.035045</td>\n",
       "      <td>0.814652</td>\n",
       "      <td>40.0</td>\n",
       "    </tr>\n",
       "    <tr>\n",
       "      <th>71</th>\n",
       "      <td>84215.150012</td>\n",
       "      <td>84247.600007</td>\n",
       "      <td>0.2284</td>\n",
       "      <td>1.1980</td>\n",
       "      <td>147.372056</td>\n",
       "      <td>7.098783</td>\n",
       "      <td>0.258115</td>\n",
       "      <td>0.042468</td>\n",
       "      <td>0.749697</td>\n",
       "      <td>44.0</td>\n",
       "    </tr>\n",
       "    <tr>\n",
       "      <th>177</th>\n",
       "      <td>84262.350008</td>\n",
       "      <td>84291.850008</td>\n",
       "      <td>1.1980</td>\n",
       "      <td>2.7436</td>\n",
       "      <td>213.515060</td>\n",
       "      <td>2.250493</td>\n",
       "      <td>0.578543</td>\n",
       "      <td>0.015421</td>\n",
       "      <td>0.853106</td>\n",
       "      <td>29.0</td>\n",
       "    </tr>\n",
       "    <tr>\n",
       "      <th>72</th>\n",
       "      <td>84339.050014</td>\n",
       "      <td>84371.500009</td>\n",
       "      <td>0.2284</td>\n",
       "      <td>0.5231</td>\n",
       "      <td>141.763936</td>\n",
       "      <td>3.749537</td>\n",
       "      <td>0.237121</td>\n",
       "      <td>0.027790</td>\n",
       "      <td>0.720228</td>\n",
       "      <td>25.0</td>\n",
       "    </tr>\n",
       "    <tr>\n",
       "      <th>5</th>\n",
       "      <td>85052.950014</td>\n",
       "      <td>85073.600013</td>\n",
       "      <td>0.0288</td>\n",
       "      <td>0.0659</td>\n",
       "      <td>308.900508</td>\n",
       "      <td>5.512676</td>\n",
       "      <td>0.215170</td>\n",
       "      <td>0.016453</td>\n",
       "      <td>0.726696</td>\n",
       "      <td>21.0</td>\n",
       "    </tr>\n",
       "  </tbody>\n",
       "</table>\n",
       "<p>178 rows × 10 columns</p>\n",
       "</div>"
      ],
      "text/plain": [
       "       start_time      end_time  min_freq  max_freq    mean_baz   std_baz  \\\n",
       "133  10277.000010  10303.550007    0.5231    4.1520  253.538669  6.069255   \n",
       "0    16270.450010  16329.450012    0.0126    0.0126  135.000000  0.000000   \n",
       "38   23314.100007  23349.500006    0.2284    0.5231   53.927105  3.593952   \n",
       "73   24573.750014  24615.050011    0.3457    0.5231   46.916917  4.044134   \n",
       "39   24904.150012  25042.800014    0.2284    0.3457   32.846951  9.773271   \n",
       "..            ...           ...       ...       ...         ...       ...   \n",
       "7    83740.200013  83796.250011    0.0436    0.0997  308.223652  6.315321   \n",
       "71   84215.150012  84247.600007    0.2284    1.1980  147.372056  7.098783   \n",
       "177  84262.350008  84291.850008    1.1980    2.7436  213.515060  2.250493   \n",
       "72   84339.050014  84371.500009    0.2284    0.5231  141.763936  3.749537   \n",
       "5    85052.950014  85073.600013    0.0288    0.0659  308.900508  5.512676   \n",
       "\n",
       "     mean_vel   std_vel  max_semb  n_pixels  \n",
       "133  0.388374  0.025612  0.835924      55.0  \n",
       "0    0.196419  0.000000  0.657468      21.0  \n",
       "38   0.497476  0.049454  0.755950      22.0  \n",
       "73   0.510296  0.030889  0.722622      22.0  \n",
       "39   0.593285  0.118295  0.761793      51.0  \n",
       "..        ...       ...       ...       ...  \n",
       "7    0.228743  0.035045  0.814652      40.0  \n",
       "71   0.258115  0.042468  0.749697      44.0  \n",
       "177  0.578543  0.015421  0.853106      29.0  \n",
       "72   0.237121  0.027790  0.720228      25.0  \n",
       "5    0.215170  0.016453  0.726696      21.0  \n",
       "\n",
       "[178 rows x 10 columns]"
      ]
     },
     "execution_count": 29,
     "metadata": {},
     "output_type": "execute_result"
    }
   ],
   "source": [
    "cardinal.df_families(ref_time, families)"
   ]
  },
  {
   "cell_type": "markdown",
   "metadata": {},
   "source": [
    "They can be summarized as a polar plot (which shows each family and its associated backazimuth and trace velocity, color coded by time of day, where symbol sizes represent the family size)."
   ]
  },
  {
   "cell_type": "code",
   "execution_count": 30,
   "metadata": {},
   "outputs": [
    {
     "data": {
      "application/vnd.jupyter.widget-view+json": {
       "model_id": "1cf623271fbf4bde832c81c525fb1964",
       "version_major": 2,
       "version_minor": 0
      },
      "text/plain": [
       "Canvas(toolbar=Toolbar(toolitems=[('Home', 'Reset original view', 'home', 'home'), ('Back', 'Back to previous …"
      ]
     },
     "metadata": {},
     "output_type": "display_data"
    }
   ],
   "source": [
    "cardinal.polar_plot_families(families)"
   ]
  },
  {
   "cell_type": "markdown",
   "metadata": {},
   "source": [
    "You can also compare the output of Cardinal processing both before, and after, producing families using the ```ix``` and ```pixels_in_families``` output variables.\n",
    "\n",
    "The first example shows the results of processing before computing families:"
   ]
  },
  {
   "cell_type": "code",
   "execution_count": 31,
   "metadata": {},
   "outputs": [
    {
     "data": {
      "application/vnd.jupyter.widget-view+json": {
       "model_id": "b2ba5ab8000d484285e6f24a63fd4632",
       "version_major": 2,
       "version_minor": 0
      },
      "text/plain": [
       "Canvas(toolbar=Toolbar(toolitems=[('Home', 'Reset original view', 'home', 'home'), ('Back', 'Back to previous …"
      ]
     },
     "metadata": {},
     "output_type": "display_data"
    }
   ],
   "source": [
    "cardinal.plot_sliding_window_multifreq(st, 'DUN2', f_bands, T, B, V, S,\n",
    "                                       semblance_threshold=0.6, clim_baz=None, \n",
    "                                       clim_vtr=[0,1],\n",
    "                                       plot_trace_vel=True, log_freq=False,\n",
    "                                       figsize=(8,5))"
   ]
  },
  {
   "cell_type": "markdown",
   "metadata": {},
   "source": [
    "The next example shows the results of processing afterwards:"
   ]
  },
  {
   "cell_type": "code",
   "execution_count": 32,
   "metadata": {},
   "outputs": [
    {
     "data": {
      "application/vnd.jupyter.widget-view+json": {
       "model_id": "a3ab55b9511f4c4ca13b988190f5dbac",
       "version_major": 2,
       "version_minor": 0
      },
      "text/plain": [
       "Canvas(toolbar=Toolbar(toolitems=[('Home', 'Reset original view', 'home', 'home'), ('Back', 'Back to previous …"
      ]
     },
     "metadata": {},
     "output_type": "display_data"
    }
   ],
   "source": [
    "cardinal.plot_sliding_window_multifreq(st, 'DUN2', f_bands, T, B, V, S,\n",
    "                                       semblance_threshold=0.6, clim_baz=None, \n",
    "                                       clim_vtr=[0,1],\n",
    "                                       pixels_in_families=pixels_in_families, ix=ix,\n",
    "                                       plot_trace_vel=True, log_freq=False,\n",
    "                                       figsize=(8,5))"
   ]
  },
  {
   "cell_type": "markdown",
   "metadata": {},
   "source": [
    "Finally, the families can be written to, and read from, a SQLite3 database as follows:"
   ]
  },
  {
   "cell_type": "code",
   "execution_count": 33,
   "metadata": {},
   "outputs": [],
   "source": [
    "cardinal.write_families_to_db('DUN.sql', families)"
   ]
  },
  {
   "cell_type": "code",
   "execution_count": 34,
   "metadata": {},
   "outputs": [],
   "source": [
    "families = cardinal.read_families_from_db('DUN.sql')"
   ]
  },
  {
   "cell_type": "markdown",
   "metadata": {},
   "source": [
    "For processing multiple days, the results of each successive day can simply be appended onto the same SQLite3 file."
   ]
  },
  {
   "cell_type": "code",
   "execution_count": null,
   "metadata": {},
   "outputs": [],
   "source": []
  }
 ],
 "metadata": {
  "kernelspec": {
   "display_name": "Python 3 (ipykernel)",
   "language": "python",
   "name": "python3"
  },
  "language_info": {
   "codemirror_mode": {
    "name": "ipython",
    "version": 3
   },
   "file_extension": ".py",
   "mimetype": "text/x-python",
   "name": "python",
   "nbconvert_exporter": "python",
   "pygments_lexer": "ipython3",
   "version": "3.8.10"
  }
 },
 "nbformat": 4,
 "nbformat_minor": 4
}
